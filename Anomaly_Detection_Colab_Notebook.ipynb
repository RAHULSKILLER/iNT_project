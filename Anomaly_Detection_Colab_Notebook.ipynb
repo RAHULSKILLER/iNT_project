{
 "cells": [
  {
   "cell_type": "markdown",
   "id": "8b3a82c2",
   "metadata": {},
   "source": [
    "# 🚀 Anomaly Detection with LSTM Autoencoder on NASA C-MAPSS Dataset"
   ]
  },
  {
   "cell_type": "code",
   "execution_count": null,
   "id": "551b9b97",
   "metadata": {},
   "outputs": [],
   "source": [
    "# Step 1: Install dependencies (Colab usually has these)\n",
    "!pip install pandas numpy scikit-learn tensorflow\n"
   ]
  },
  {
   "cell_type": "code",
   "execution_count": null,
   "id": "456ab8ab",
   "metadata": {},
   "outputs": [],
   "source": [
    "# Step 2: Import Libraries\n",
    "import pandas as pd\n",
    "import numpy as np\n",
    "from sklearn.preprocessing import MinMaxScaler\n",
    "from tensorflow.keras.models import Model\n",
    "from tensorflow.keras.layers import Input, LSTM, RepeatVector\n",
    "from tensorflow.keras.optimizers import Adam\n",
    "import matplotlib.pyplot as plt\n"
   ]
  },
  {
   "cell_type": "code",
   "execution_count": null,
   "id": "c1ce6c2d",
   "metadata": {},
   "outputs": [],
   "source": [
    "# Step 3: Upload the dataset\n",
    "from google.colab import files\n",
    "uploaded = files.upload()\n"
   ]
  },
  {
   "cell_type": "code",
   "execution_count": null,
   "id": "8898dece",
   "metadata": {},
   "outputs": [],
   "source": [
    "# Step 4: Load the dataset (adjust file name if different)\n",
    "file_name = 'train_FD001.txt'\n",
    "columns = ['unit_number', 'time_in_cycles'] + \\\n",
    "          [f'operational_setting_{i}' for i in range(1, 4)] + \\\n",
    "          [f'sensor_{i}' for i in range(1, 22)]\n",
    "df = pd.read_csv(file_name, sep='\\s+', header=None, names=columns)\n"
   ]
  },
  {
   "cell_type": "code",
   "execution_count": null,
   "id": "2b411814",
   "metadata": {},
   "outputs": [],
   "source": [
    "# Step 5: Normalize sensor data\n",
    "sensor_cols = [col for col in df.columns if \"sensor\" in col]\n",
    "scaler = MinMaxScaler()\n",
    "df[sensor_cols] = scaler.fit_transform(df[sensor_cols])\n"
   ]
  },
  {
   "cell_type": "code",
   "execution_count": null,
   "id": "d72f454a",
   "metadata": {},
   "outputs": [],
   "source": [
    "# Step 6: Prepare training sequences from early healthy cycles\n",
    "sequence_length = 30\n",
    "normal_data = []\n",
    "\n",
    "for unit in df['unit_number'].unique():\n",
    "    unit_data = df[df['unit_number'] == unit].sort_values('time_in_cycles')\n",
    "    early_cycles = unit_data[unit_data['time_in_cycles'] <= 50]\n",
    "    for i in range(len(early_cycles) - sequence_length):\n",
    "        seq = early_cycles.iloc[i:i+sequence_length][sensor_cols].values\n",
    "        normal_data.append(seq)\n",
    "\n",
    "normal_data = np.array(normal_data)\n",
    "normal_data.shape\n"
   ]
  },
  {
   "cell_type": "code",
   "execution_count": null,
   "id": "f46de51e",
   "metadata": {},
   "outputs": [],
   "source": [
    "# Step 7: Build and train the Autoencoder\n",
    "input_layer = Input(shape=(sequence_length, len(sensor_cols)))\n",
    "encoded = LSTM(64, activation='relu', return_sequences=False)(input_layer)\n",
    "bottleneck = RepeatVector(sequence_length)(encoded)\n",
    "decoded = LSTM(64, activation='relu', return_sequences=True)(bottleneck)\n",
    "\n",
    "autoencoder = Model(inputs=input_layer, outputs=decoded)\n",
    "autoencoder.compile(optimizer=Adam(learning_rate=0.001), loss='mse')\n",
    "\n",
    "history = autoencoder.fit(normal_data, normal_data,\n",
    "                          epochs=20,\n",
    "                          batch_size=32,\n",
    "                          validation_split=0.1,\n",
    "                          verbose=1)\n"
   ]
  },
  {
   "cell_type": "code",
   "execution_count": null,
   "id": "c6daf58c",
   "metadata": {},
   "outputs": [],
   "source": [
    "# Step 8: Plot loss\n",
    "plt.plot(history.history['loss'], label='Train Loss')\n",
    "plt.plot(history.history['val_loss'], label='Val Loss')\n",
    "plt.title('Autoencoder Training Loss')\n",
    "plt.legend()\n",
    "plt.grid()\n",
    "plt.show()\n"
   ]
  }
 ],
 "metadata": {
  "kernelspec": {
   "display_name": "Python 3 (ipykernel)",
   "language": "python",
   "name": "python3"
  },
  "language_info": {
   "codemirror_mode": {
    "name": "ipython",
    "version": 3
   },
   "file_extension": ".py",
   "mimetype": "text/x-python",
   "name": "python",
   "nbconvert_exporter": "python",
   "pygments_lexer": "ipython3",
   "version": "3.12.7"
  }
 },
 "nbformat": 4,
 "nbformat_minor": 5
}
